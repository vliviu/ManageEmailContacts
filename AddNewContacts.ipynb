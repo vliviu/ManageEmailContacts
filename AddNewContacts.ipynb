{
 "cells": [
  {
   "cell_type": "code",
   "execution_count": 1,
   "id": "dc8372fc",
   "metadata": {},
   "outputs": [],
   "source": [
    "import re\n",
    "import pandas as pd\n"
   ]
  },
  {
   "cell_type": "code",
   "execution_count": 2,
   "id": "554d8c9e",
   "metadata": {},
   "outputs": [],
   "source": [
    "# Read the email content from a file\n",
    "with open('email.txt', 'r') as file:\n",
    "    email_content = file.read()\n",
    "\n"
   ]
  },
  {
   "cell_type": "code",
   "execution_count": 3,
   "id": "4cbedf93",
   "metadata": {},
   "outputs": [],
   "source": [
    "# Define refined regex patterns\n",
    "name_pattern = r'(?m)^[A-Z][a-z]+\\s[A-Z][a-z]+$'  # Matches full name\n",
    "position_pattern = r'(?m)^[A-Z][a-z]+\\s[A-Z][a-z]+\\n(.+)$'  # Matches position on the line after name\n",
    "workplace_pattern = r'(?m)^(.*Training, Inc\\.)$'  # Matches workplace ending with \"Training, Inc.\"\n",
    "email_pattern = r'([a-zA-Z0-9._%+-]+@[a-zA-Z0-9.-]+\\.[a-zA-Z]{2,})'  # Matches email addresses\n",
    "phone_pattern = r'P:\\s*\\((\\d{3})\\)\\s*(\\d{3})-(\\d{4})'  # Matches phone numbers\n",
    "\n",
    "# Extract information using regex\n",
    "full_name_match = re.search(name_pattern, email_content)\n",
    "position_match = re.search(position_pattern, email_content)\n",
    "workplace_match = re.search(workplace_pattern, email_content)\n",
    "email_match = re.search(email_pattern, email_content)\n",
    "phone_match = re.search(phone_pattern, email_content)\n"
   ]
  },
  {
   "cell_type": "code",
   "execution_count": 4,
   "id": "2a3fc864",
   "metadata": {},
   "outputs": [],
   "source": [
    "# Assign extracted values (with graceful handling for missing data)\n",
    "full_name = full_name_match.group(0).strip() if full_name_match else \"N/A\"\n",
    "position = position_match.group(1).strip() if position_match else \"N/A\"  # Use group(1) for position, skipping name\n",
    "workplace = workplace_match.group(1).strip() if workplace_match else \"N/A\"\n",
    "email = email_match.group(0).strip() if email_match else \"N/A\"\n",
    "phone_number = (\n",
    "    f\"({phone_match.group(1)}) {phone_match.group(2)}-{phone_match.group(3)}\"\n",
    "    if phone_match\n",
    "    else \"N/A\"\n",
    ")\n",
    "\n",
    "# Extract domain from email to create webpage URL\n",
    "domain = email.split('@')[1] if email != \"N/A\" else \"N/A\"\n",
    "webpage = f\"http://{domain}\" if domain != \"N/A\" else \"N/A\"\n"
   ]
  },
  {
   "cell_type": "code",
   "execution_count": 5,
   "id": "0aa9fb81",
   "metadata": {},
   "outputs": [
    {
     "name": "stdout",
     "output_type": "stream",
     "text": [
      "Extracted Information:\n",
      "Full Name: Jane Doe\n",
      "Position: Senior Account Executive\n",
      "Work Place: Microsoft Training, Inc.\n",
      "Email: jane.doe@microsoft.com\n",
      "Phone: (904) 777-3333\n",
      "Webpage: http://microsoft.com\n",
      "\n"
     ]
    }
   ],
   "source": [
    "# Debugging: Print extracted values before creating DataFrame\n",
    "print(\"Extracted Information:\")\n",
    "print(f\"Full Name: {full_name}\")\n",
    "print(f\"Position: {position}\")\n",
    "print(f\"Work Place: {workplace}\")\n",
    "print(f\"Email: {email}\")\n",
    "print(f\"Phone: {phone_number}\")\n",
    "print(f\"Webpage: {webpage}\\n\")\n"
   ]
  },
  {
   "cell_type": "code",
   "execution_count": 6,
   "id": "99be7eea",
   "metadata": {},
   "outputs": [],
   "source": [
    "# Create a DataFrame\n",
    "data = {\n",
    "    'Full Name': [full_name],\n",
    "    'Position': [position],\n",
    "    'Work Place': [workplace],\n",
    "    'Email': [email],\n",
    "    'Phone': [phone_number],\n",
    "    'Webpage': [webpage]\n",
    "}\n",
    "df = pd.DataFrame(data)\n",
    "\n",
    "# Remove duplicates if any\n",
    "df = df.drop_duplicates()\n"
   ]
  },
  {
   "cell_type": "code",
   "execution_count": 7,
   "id": "a364f8f2",
   "metadata": {},
   "outputs": [
    {
     "name": "stdout",
     "output_type": "stream",
     "text": [
      "\n",
      "Formatted DataFrame:\n",
      "\n",
      "  Full Name                  Position                Work Place  \\\n",
      "0  Jane Doe  Senior Account Executive  Microsoft Training, Inc.   \n",
      "\n",
      "                    Email           Phone               Webpage  \n",
      "0  jane.doe@microsoft.com  (904) 777-3333  http://microsoft.com  \n",
      "\n",
      "Is this information correct? (yes/no): yes\n"
     ]
    }
   ],
   "source": [
    "# Print cleaned DataFrame\n",
    "print(\"\\nFormatted DataFrame:\\n\")\n",
    "print(df)\n",
    "\n",
    "# Ask for user confirmation before saving\n",
    "confirm = input(\"\\nIs this information correct? (yes/no): \").strip().lower()\n"
   ]
  },
  {
   "cell_type": "code",
   "execution_count": 8,
   "id": "0bc2ad85",
   "metadata": {},
   "outputs": [
    {
     "name": "stdout",
     "output_type": "stream",
     "text": [
      "Contact information saved to 'contacts.csv'.\n"
     ]
    }
   ],
   "source": [
    "\n",
    "if confirm == 'yes':\n",
    "    # Write to CSV if confirmed\n",
    "    df.to_csv('contacts.csv', index=False)\n",
    "    print(\"Contact information saved to 'contacts.csv'.\")\n",
    "else:\n",
    "    print(\"Operation cancelled. No changes were made.\")\n"
   ]
  },
  {
   "cell_type": "code",
   "execution_count": null,
   "id": "ac2bd2f7",
   "metadata": {},
   "outputs": [],
   "source": []
  }
 ],
 "metadata": {
  "kernelspec": {
   "display_name": "Python 3 (ipykernel)",
   "language": "python",
   "name": "python3"
  },
  "language_info": {
   "codemirror_mode": {
    "name": "ipython",
    "version": 3
   },
   "file_extension": ".py",
   "mimetype": "text/x-python",
   "name": "python",
   "nbconvert_exporter": "python",
   "pygments_lexer": "ipython3",
   "version": "3.9.16"
  }
 },
 "nbformat": 4,
 "nbformat_minor": 5
}
